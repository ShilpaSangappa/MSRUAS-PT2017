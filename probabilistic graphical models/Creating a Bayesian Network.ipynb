{
 "cells": [
  {
   "cell_type": "markdown",
   "metadata": {},
   "source": [
    "### Creating a Bayesian Network\n",
    "https://github.com/pgmpy/pgmpy/blob/dev/examples/Creating%20a%20Bayesian%20Network.ipynb"
   ]
  },
  {
   "cell_type": "markdown",
   "metadata": {},
   "source": [
    "![title](images/BN-Cancer.png)"
   ]
  },
  {
   "cell_type": "code",
   "execution_count": 4,
   "metadata": {},
   "outputs": [],
   "source": [
    "from pgmpy.models import BayesianModel\n",
    "\n",
    "cancer_model = BayesianModel([('Pollution', 'Cancer'), \n",
    "                              ('Smoker', 'Cancer'),\n",
    "                             ('Cancer', 'Xray'), \n",
    "                              ('Cancer', 'Dyspnoea')])"
   ]
  },
  {
   "cell_type": "code",
   "execution_count": 7,
   "metadata": {},
   "outputs": [],
   "source": [
    "from pgmpy.factors.discrete import TabularCPD\n",
    "\n",
    "cpd_pollution = TabularCPD(variable=\"Pollution\", variable_card=2, values=[[0.9], [0.1]])\n",
    "cpd_smoker = TabularCPD(variable=\"Smoker\", variable_card=2, values=[[0.3], [0.7]])\n",
    "cpd_cancer = TabularCPD(variable=\"Cancer\", variable_card=2, \n",
    "                        values=[[0.03, 0.05, 0.001, 0.02],\n",
    "                                [0.97, 0.95, 0.999, 0.98]],\n",
    "                       evidence=[\"Smoker\", \"Pollution\"],\n",
    "                       evidence_card=[2,2])\n",
    "cpd_xray = TabularCPD(variable=\"Xray\", variable_card=2,\n",
    "                     values=[[0.9, 0.2], [0.1, 0.8]],\n",
    "                     evidence=[\"Cancer\"], evidence_card=[2])\n",
    "cpd_dyspnoea = TabularCPD(variable=\"Dyspnoea\", variable_card=2, \n",
    "                         values=[[0.65, 0.3], [0.35, 0.7]],\n",
    "                         evidence=[\"Cancer\"], evidence_card=[2])"
   ]
  },
  {
   "cell_type": "raw",
   "metadata": {},
   "source": [
    "cancer_model.add_cpds(cpd_pollution, cpd_smoker, cpd_cancer, cpd_xray, cpd_dyspnoea)\n",
    "cancer_model.check_model()"
   ]
  },
  {
   "cell_type": "code",
   "execution_count": 8,
   "metadata": {},
   "outputs": [
    {
     "data": {
      "text/plain": [
       "False"
      ]
     },
     "execution_count": 8,
     "metadata": {},
     "output_type": "execute_result"
    }
   ],
   "source": [
    "cancer_model.is_active_trail('Pollution', 'Smoker')"
   ]
  },
  {
   "cell_type": "code",
   "execution_count": 9,
   "metadata": {},
   "outputs": [
    {
     "data": {
      "text/plain": [
       "True"
      ]
     },
     "execution_count": 9,
     "metadata": {},
     "output_type": "execute_result"
    }
   ],
   "source": [
    "cancer_model.is_active_trail('Pollution', 'Smoker', observed=['Cancer'])"
   ]
  },
  {
   "cell_type": "code",
   "execution_count": 10,
   "metadata": {},
   "outputs": [
    {
     "data": {
      "text/plain": [
       "(Xray _|_ Dyspnoea, Pollution, Smoker | Cancer)"
      ]
     },
     "execution_count": 10,
     "metadata": {},
     "output_type": "execute_result"
    }
   ],
   "source": [
    "cancer_model.local_independencies('Xray')"
   ]
  },
  {
   "cell_type": "code",
   "execution_count": 11,
   "metadata": {},
   "outputs": [
    {
     "data": {
      "text/plain": [
       "(Dyspnoea _|_ Xray, Pollution, Smoker | Cancer)\n",
       "(Dyspnoea _|_ Pollution, Smoker | Xray, Cancer)\n",
       "(Dyspnoea _|_ Xray, Smoker | Pollution, Cancer)\n",
       "(Dyspnoea _|_ Xray, Pollution | Cancer, Smoker)\n",
       "(Dyspnoea _|_ Smoker | Xray, Pollution, Cancer)\n",
       "(Dyspnoea _|_ Pollution | Xray, Cancer, Smoker)\n",
       "(Dyspnoea _|_ Xray | Pollution, Cancer, Smoker)\n",
       "(Xray _|_ Dyspnoea, Pollution, Smoker | Cancer)\n",
       "(Xray _|_ Pollution, Smoker | Dyspnoea, Cancer)\n",
       "(Xray _|_ Dyspnoea, Smoker | Pollution, Cancer)\n",
       "(Xray _|_ Dyspnoea, Pollution | Cancer, Smoker)\n",
       "(Xray _|_ Smoker | Dyspnoea, Pollution, Cancer)\n",
       "(Xray _|_ Pollution | Dyspnoea, Cancer, Smoker)\n",
       "(Xray _|_ Dyspnoea | Pollution, Cancer, Smoker)\n",
       "(Pollution _|_ Smoker)\n",
       "(Pollution _|_ Dyspnoea, Xray | Cancer)\n",
       "(Pollution _|_ Xray | Dyspnoea, Cancer)\n",
       "(Pollution _|_ Dyspnoea | Xray, Cancer)\n",
       "(Pollution _|_ Dyspnoea, Xray | Cancer, Smoker)\n",
       "(Pollution _|_ Xray | Dyspnoea, Cancer, Smoker)\n",
       "(Pollution _|_ Dyspnoea | Xray, Cancer, Smoker)\n",
       "(Smoker _|_ Pollution)\n",
       "(Smoker _|_ Dyspnoea, Xray | Cancer)\n",
       "(Smoker _|_ Xray | Dyspnoea, Cancer)\n",
       "(Smoker _|_ Dyspnoea, Xray | Pollution, Cancer)\n",
       "(Smoker _|_ Dyspnoea | Xray, Cancer)\n",
       "(Smoker _|_ Xray | Dyspnoea, Pollution, Cancer)\n",
       "(Smoker _|_ Dyspnoea | Xray, Pollution, Cancer)"
      ]
     },
     "execution_count": 11,
     "metadata": {},
     "output_type": "execute_result"
    }
   ],
   "source": [
    "cancer_model.get_independencies()"
   ]
  },
  {
   "cell_type": "code",
   "execution_count": null,
   "metadata": {},
   "outputs": [],
   "source": []
  }
 ],
 "metadata": {
  "kernelspec": {
   "display_name": "Python 3",
   "language": "python",
   "name": "python3"
  },
  "language_info": {
   "codemirror_mode": {
    "name": "ipython",
    "version": 3
   },
   "file_extension": ".py",
   "mimetype": "text/x-python",
   "name": "python",
   "nbconvert_exporter": "python",
   "pygments_lexer": "ipython3",
   "version": "3.5.2"
  }
 },
 "nbformat": 4,
 "nbformat_minor": 2
}
