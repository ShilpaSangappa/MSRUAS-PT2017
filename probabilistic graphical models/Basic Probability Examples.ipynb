{
 "cells": [
  {
   "cell_type": "markdown",
   "metadata": {},
   "source": [
    "### Coin Toss Simulation in python"
   ]
  },
  {
   "cell_type": "code",
   "execution_count": 36,
   "metadata": {},
   "outputs": [],
   "source": [
    "from random import randint\n",
    "\n",
    "def coin_toss_simulate(n):\n",
    "    trials=[None]*n\n",
    "    for i in range(n):\n",
    "        trials[i] = randint(0,1)\n",
    "        \n",
    "    #Heads if 1, tails if 0\n",
    "    heads = sum(trials)/n \n",
    "    print('n=%d\\t heads=%f \\t tails=%f' %(n,heads,(1-heads)))"
   ]
  },
  {
   "cell_type": "code",
   "execution_count": 37,
   "metadata": {},
   "outputs": [
    {
     "name": "stdout",
     "output_type": "stream",
     "text": [
      "n=10\t heads=0.800000 \t tails=0.200000\n",
      "n=100\t heads=0.540000 \t tails=0.460000\n",
      "n=1000\t heads=0.482000 \t tails=0.518000\n",
      "n=10000000\t heads=0.500181 \t tails=0.499819\n"
     ]
    }
   ],
   "source": [
    "coin_toss_simulate(10)\n",
    "coin_toss_simulate(100)\n",
    "coin_toss_simulate(1000)\n",
    "coin_toss_simulate(10000000)"
   ]
  },
  {
   "cell_type": "markdown",
   "metadata": {},
   "source": [
    "### Random Numbers with Python\n",
    "https://www.python-course.eu/python_numpy_probability.php"
   ]
  },
  {
   "cell_type": "code",
   "execution_count": 38,
   "metadata": {},
   "outputs": [
    {
     "name": "stdout",
     "output_type": "stream",
     "text": [
      "0.4357494533564742\n"
     ]
    }
   ],
   "source": [
    "import random\n",
    "print(random.random())"
   ]
  },
  {
   "cell_type": "code",
   "execution_count": 40,
   "metadata": {},
   "outputs": [
    {
     "name": "stdout",
     "output_type": "stream",
     "text": [
      "0.5643869176152716\n"
     ]
    }
   ],
   "source": [
    "#A more secure form of random number generation\n",
    "from random import SystemRandom\n",
    "crypto = SystemRandom()\n",
    "print(crypto.random())"
   ]
  },
  {
   "cell_type": "code",
   "execution_count": 39,
   "metadata": {},
   "outputs": [
    {
     "data": {
      "text/plain": [
       "[0.5574870098582116,\n",
       " 0.3602376078404399,\n",
       " 0.847398527685941,\n",
       " 0.8923472194436882,\n",
       " 0.38331586938774,\n",
       " 0.009811353077040952,\n",
       " 0.11632140781306788,\n",
       " 0.21667758727823005,\n",
       " 0.05684933440856654,\n",
       " 0.2192449448295991]"
      ]
     },
     "execution_count": 39,
     "metadata": {},
     "output_type": "execute_result"
    }
   ],
   "source": [
    "#print list of random numbers\n",
    "def random_list(n):\n",
    "    random_nos = [None]*n\n",
    "    for i in range(n):\n",
    "        random_nos[i] = random.random()\n",
    "    return random_nos\n",
    "random_list(10)"
   ]
  },
  {
   "cell_type": "code",
   "execution_count": 41,
   "metadata": {},
   "outputs": [
    {
     "data": {
      "text/plain": [
       "[0.2785315349401253,\n",
       " 0.43058928219374804,\n",
       " 0.23608306689736525,\n",
       " 0.3138147623267392,\n",
       " 0.9222316919494072,\n",
       " 0.35616197192628885,\n",
       " 0.11048367422693084,\n",
       " 0.35303588749777715,\n",
       " 0.8846275173497437,\n",
       " 0.8638221416576878]"
      ]
     },
     "execution_count": 41,
     "metadata": {},
     "output_type": "execute_result"
    }
   ],
   "source": [
    "#print list of random numbers - using list comprehension\n",
    "[random.random() for i in range(10)]"
   ]
  },
  {
   "cell_type": "markdown",
   "metadata": {},
   "source": [
    "#### The fastest and most efficient way will be using the random package of the numpy module"
   ]
  },
  {
   "cell_type": "code",
   "execution_count": 42,
   "metadata": {},
   "outputs": [
    {
     "data": {
      "text/plain": [
       "array([0.24828945, 0.27602791, 0.97112534, 0.25825949, 0.57402196,\n",
       "       0.67287581, 0.78681554, 0.60521937, 0.48902596, 0.9333477 ])"
      ]
     },
     "execution_count": 42,
     "metadata": {},
     "output_type": "execute_result"
    }
   ],
   "source": [
    "import numpy as np\n",
    "np.random.random(10)"
   ]
  },
  {
   "cell_type": "markdown",
   "metadata": {},
   "source": [
    "#### Random Numbers Satisfying sum-to-one Condition"
   ]
  },
  {
   "cell_type": "code",
   "execution_count": 43,
   "metadata": {},
   "outputs": [
    {
     "name": "stdout",
     "output_type": "stream",
     "text": [
      "sum of random_nos is 49.372594\n",
      "sum of normalized_random_nos is 1.000000\n"
     ]
    }
   ],
   "source": [
    "import numpy as np\n",
    "random_nos = np.random.random(100)\n",
    "print('sum of random_nos is %f' %random_nos.sum())\n",
    "normalized_random_nos = random_nos/random_nos.sum()\n",
    "print('sum of normalized_random_nos is %f' %normalized_random_nos.sum())"
   ]
  },
  {
   "cell_type": "markdown",
   "metadata": {},
   "source": [
    "#### Roll out a dice ten times"
   ]
  },
  {
   "cell_type": "code",
   "execution_count": 49,
   "metadata": {},
   "outputs": [
    {
     "name": "stdout",
     "output_type": "stream",
     "text": [
      "[2 6 3 3 3 4 5 5 2 2]\n",
      "4\n"
     ]
    }
   ],
   "source": [
    "import numpy as np\n",
    "outcome = np.random.randint(1,7,size=10)\n",
    "print(outcome)\n",
    "\n",
    "#Choose one of the outcomes\n",
    "print(np.random.choice(outcome))"
   ]
  }
 ],
 "metadata": {
  "kernelspec": {
   "display_name": "Python 3",
   "language": "python",
   "name": "python3"
  },
  "language_info": {
   "codemirror_mode": {
    "name": "ipython",
    "version": 3
   },
   "file_extension": ".py",
   "mimetype": "text/x-python",
   "name": "python",
   "nbconvert_exporter": "python",
   "pygments_lexer": "ipython3",
   "version": "3.5.2"
  }
 },
 "nbformat": 4,
 "nbformat_minor": 2
}
