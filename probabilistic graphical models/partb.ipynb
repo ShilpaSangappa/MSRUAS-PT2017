{
 "cells": [
  {
   "cell_type": "markdown",
   "metadata": {},
   "source": [
    "# Part B - Syntactic and Semantic Feature Extraction"
   ]
  },
  {
   "cell_type": "markdown",
   "metadata": {},
   "source": [
    "# Imports"
   ]
  },
  {
   "cell_type": "code",
   "execution_count": 12,
   "metadata": {},
   "outputs": [],
   "source": [
    "from nltk import sent_tokenize, word_tokenize, pos_tag, ne_chunk"
   ]
  },
  {
   "cell_type": "markdown",
   "metadata": {},
   "source": [
    "## Text of the story"
   ]
  },
  {
   "cell_type": "code",
   "execution_count": 13,
   "metadata": {},
   "outputs": [],
   "source": [
    "story = '''Chandaraka was a jackal living in a forest. One day, driven by hunger, he came to a nearby town in search of\n",
    "food. Seeing him, a group of mongrels began chasing and attacking him whenever possible. The jackal fled\n",
    "in panic and entering the house of a washer man hid in a vat full of blue used for bleaching clothes. When he\n",
    "came out, he became a blue animal. Thinking that he was not the jackal they chased, the mongrels dispersed.\n",
    "\n",
    "The jackal came back to the forest with his body dyed in blue. When the lions, tigers, panthers, wolves and\n",
    "other animals in the forest saw him, they took fright and ran in all directions. They thought to themselves,\n",
    "“We do not know his power and strength. It is better we keep a distance from him. Haven't the elders warned\n",
    "not to trust him whose conduct, caste and courage are not known.”\n",
    "\n",
    "Seeing them scared, the dyed jackal said, “Why do you run away like that. There is no need to fear. I am a\n",
    "special creation of God. He told me that the animals in the jungle here had no ruler and that he was\n",
    "nominating me as your king. He named me as Kakudruma and told me to rule all of you. Therefore all of you\n",
    "can live safely under the umbrella of my protection.”\n",
    "\n",
    "All the animals in the jungle accepted him as the king. He in turn appointed the lion as his minister, the tiger\n",
    "as his chamberlain and the wolf as the gatekeeper. After distributing office to the animals, the new king\n",
    "Kakudruma banished all the jackals in the forest. The lions, tigers and the wolves killed other animals and\n",
    "brought them as food for the king. Taking his share, Kakudruma would distribute the rest of the kill among\n",
    "his subjects.\n",
    "\n",
    "One day when the blue jackal was holding court, he heard a gang of jackals howling. Thrilled by the sound of\n",
    "his own ilk,Kakudruma began loudly responding in his natural voice. The lions and other animals\n",
    "immediately recognized that their king was after all a jackal and not a Godsend. They at once pounced on the\n",
    "blue jackal and killed him.\n",
    "\n",
    "“The moral is,” Damanaka said, “he who abandons his own folk will perish.”\n",
    "\n",
    "“But how do I believe that Sanjeevaka has evil intentions,” asked Pingalaka.\n",
    "\n",
    "“He told me today that he would kill you tomorrow. If you notice him carefully tomorrow, you will find him\n",
    "red-eyed and occupying a seat he does not deserve. He would stare at you angrily. If what I say comes true, it\n",
    "is for you what to do with Pingalaka,” said Damanaka.\n",
    "\n",
    "After this meeting with the lion king, Damanaka went to meet Pingalaka. The bullock received him with\n",
    "courtesy and said, “We are meeting after a long time. What can I do for you? They are the blessed who are\n",
    "visited by friends.”\n",
    "\n",
    "“Your are right, sir. But where is rest for servants. They have lost their freedom for the sake of money. They\n",
    "know no sleep, no interest in food nor can they speak without fear. Yet they live. Somebody has rightly\n",
    "compared service to a dog's life,” said Damanaka.\n",
    "\n",
    "“Come to the point, my friend” The bullock was now impatient.\n",
    "\n",
    "Damanaka said, “Sir, a minister is not supposed to give bad advice. He cannot also disclose state secrets. If\n",
    "he does, he will go to hell after his death. But in the cause of your friendship, I have revealed a secret. It is on\n",
    "my suggestion that you have taken up service in the royal household. Pingalaka has evil designs against you.\n",
    "When we were alone, he told me he would kill you and bring happiness to everyone in the palace.\n",
    "\n",
    "“I told the king that this was stabbing a friend in the back,” Damanaka continued. “The king was angry and\n",
    "said that you were a vegetarian and he lived on a diet of meat and so there was natural discord between you\n",
    "and him. He said that this was enough reason for him to kill you. This is a secret I have kept to myself for a\n",
    "long time. It is now for you to do what is necessary.”\n",
    "\n",
    "Sanjeevaka fainted on hearing these words. Recovering after some time, he said, “It is truly said that a person\n",
    "who serves the king is like a bullock without horns. It is difficult to know the mind of a king who has\n",
    "different ideas. It is not easy to serve a king. Even sages could not read the minds of kings. I think some\n",
    "servants who were jealous of my friendship with the king must have poisoned his mind.”\n",
    "\n",
    "“Don't worry,” Damanaka said. “Forget what tales the servants carried to the king. You can still win his\n",
    "favour by your sweet words.”\n",
    "\n",
    "“That is not true. It is impossible to live with wicked people, however small they are. They can always think\n",
    "of a hundred ways to get you in the same manner the jackal and crow trapped the camel.”\n",
    "\n",
    "“Sounds interesting. Let me know what happened to the camel,” asked Damanaka.\n",
    "\n",
    "Sanjeevaka began to tell him the story.'''\n",
    "\n"
   ]
  },
  {
   "cell_type": "markdown",
   "metadata": {},
   "source": [
    "## Tokenization\n",
    "Perform sentence tokenization and word tokenization and print the number of sentences and words in the given story"
   ]
  },
  {
   "cell_type": "code",
   "execution_count": 14,
   "metadata": {},
   "outputs": [
    {
     "name": "stdout",
     "output_type": "stream",
     "text": [
      "number of sentences:62\n",
      "number of words:1006\n"
     ]
    }
   ],
   "source": [
    "sentences = sent_tokenize(story)\n",
    "words = word_tokenize(story)\n",
    "\n",
    "print(\"number of sentences:%d\" %len(sentences))\n",
    "print(\"number of words:%d\" %len(words))"
   ]
  },
  {
   "cell_type": "code",
   "execution_count": 15,
   "metadata": {},
   "outputs": [
    {
     "data": {
      "text/plain": [
       "'Chandaraka was a jackal living in a forest.'"
      ]
     },
     "execution_count": 15,
     "metadata": {},
     "output_type": "execute_result"
    }
   ],
   "source": [
    "sentences[0]"
   ]
  },
  {
   "cell_type": "markdown",
   "metadata": {},
   "source": [
    "## POS tagging of words"
   ]
  },
  {
   "cell_type": "code",
   "execution_count": 16,
   "metadata": {},
   "outputs": [
    {
     "name": "stdout",
     "output_type": "stream",
     "text": [
      "number of POS tagged unique nouns and verbs in the story:  253\n",
      "number of POS tagged unique nouns in the story:  136\n",
      "number of POS tagged unique verbs in the story:  117\n"
     ]
    }
   ],
   "source": [
    "pos = pos_tag(words)\n",
    "nounAndVerb = [i for i in pos if i[1] in ['NN', 'NNS', 'NNP', 'NNPS', 'VB', 'VBD','VBG', 'VBN', 'VBP', 'VBZ']]\n",
    "noun = [i for i in pos if i[1] in ['NN', 'NNS', 'NNP', 'NNPS']]\n",
    "verb = [i for i in pos if i[1] in ['VB', 'VBD','VBG', 'VBN', 'VBP', 'VBZ']]\n",
    "\n",
    "print(\"number of POS tagged unique nouns and verbs in the story: \", len(set(nounAndVerb)))\n",
    "print(\"number of POS tagged unique nouns in the story: \", len(set(noun)))\n",
    "print(\"number of POS tagged unique verbs in the story: \", len(set(verb)))"
   ]
  },
  {
   "cell_type": "code",
   "execution_count": 31,
   "metadata": {},
   "outputs": [
    {
     "data": {
      "text/plain": [
       "[('Chandaraka', 'NNP'),\n",
       " ('was', 'VBD'),\n",
       " ('a', 'DT'),\n",
       " ('jackal', 'NN'),\n",
       " ('living', 'NN'),\n",
       " ('in', 'IN'),\n",
       " ('a', 'DT'),\n",
       " ('forest', 'NN'),\n",
       " ('.', '.'),\n",
       " ('One', 'CD'),\n",
       " ('day', 'NN'),\n",
       " (',', ','),\n",
       " ('driven', 'VBN'),\n",
       " ('by', 'IN'),\n",
       " ('hunger', 'NN'),\n",
       " (',', ','),\n",
       " ('he', 'PRP'),\n",
       " ('came', 'VBD'),\n",
       " ('to', 'TO'),\n",
       " ('a', 'DT')]"
      ]
     },
     "execution_count": 31,
     "metadata": {},
     "output_type": "execute_result"
    }
   ],
   "source": [
    "for item in pos:\n",
    "    if item[1] in ['NN', 'NNS', 'NNP', 'NNPS']:\n",
    "        "
   ]
  },
  {
   "cell_type": "markdown",
   "metadata": {},
   "source": [
    "## NER tagging\n",
    "Performing NER tagging on the POS tagged text and extracting labels gives 5 persons and 1 organization. The word 'Come' is wrongly classified as organization. The words 'Pingalaka', 'Sanjeevaka', 'Damanaka', 'Chandaraka', 'Kakudruma' have been rightly classified as person."
   ]
  },
  {
   "cell_type": "code",
   "execution_count": 7,
   "metadata": {},
   "outputs": [
    {
     "name": "stdout",
     "output_type": "stream",
     "text": [
      "unique NER extracted: \n"
     ]
    },
    {
     "data": {
      "text/plain": [
       "[('PERSON', 'Damanaka'),\n",
       " ('PERSON', 'Chandaraka'),\n",
       " ('PERSON', 'Kakudruma'),\n",
       " ('PERSON', 'Sanjeevaka'),\n",
       " ('PERSON', 'Pingalaka'),\n",
       " ('ORGANIZATION', 'Come')]"
      ]
     },
     "execution_count": 7,
     "metadata": {},
     "output_type": "execute_result"
    }
   ],
   "source": [
    "NER_pos = ne_chunk(pos)\n",
    "NER_chunk = []\n",
    "for chunk in NER_pos:\n",
    "      if hasattr(chunk, 'label'):\n",
    "         NER_chunk.append((chunk.label(), ' '.join(c[0] for c in chunk)))\n",
    "print('unique NER extracted: ')\n",
    "list(set(NER_chunk))"
   ]
  },
  {
   "cell_type": "code",
   "execution_count": 10,
   "metadata": {},
   "outputs": [
    {
     "data": {
      "text/plain": [
       "[('mongrels', 'NNS'),\n",
       " ('clothes', 'NNS'),\n",
       " ('mongrels', 'NNS'),\n",
       " ('lions', 'NNS'),\n",
       " ('tigers', 'NNS'),\n",
       " ('panthers', 'NNS'),\n",
       " ('wolves', 'NNS'),\n",
       " ('animals', 'NNS'),\n",
       " ('directions', 'NNS'),\n",
       " ('elders', 'NNS'),\n",
       " ('”', 'NNS'),\n",
       " ('animals', 'NNS'),\n",
       " ('animals', 'NNS'),\n",
       " ('animals', 'NNS'),\n",
       " ('jackals', 'NNS'),\n",
       " ('lions', 'NNS'),\n",
       " ('tigers', 'NNS'),\n",
       " ('wolves', 'NNS'),\n",
       " ('animals', 'NNS'),\n",
       " ('subjects', 'NNS'),\n",
       " ('jackals', 'NNS'),\n",
       " ('lions', 'NNS'),\n",
       " ('animals', 'NNS'),\n",
       " ('“', 'NNS'),\n",
       " ('intentions', 'NNS'),\n",
       " ('servants', 'NNS'),\n",
       " ('secrets', 'NNS'),\n",
       " ('designs', 'NNS'),\n",
       " ('words', 'NNS'),\n",
       " ('horns', 'NNS'),\n",
       " ('ideas', 'NNS'),\n",
       " ('sages', 'NNS'),\n",
       " ('minds', 'NNS'),\n",
       " ('kings', 'NNS'),\n",
       " ('servants', 'NNS'),\n",
       " ('servants', 'NNS'),\n",
       " ('people', 'NNS'),\n",
       " ('ways', 'NNS')]"
      ]
     },
     "execution_count": 10,
     "metadata": {},
     "output_type": "execute_result"
    }
   ],
   "source": [
    "noun1 = [i for i in pos if i[1] in ['NNS']]\n",
    "noun1"
   ]
  },
  {
   "cell_type": "code",
   "execution_count": null,
   "metadata": {},
   "outputs": [],
   "source": []
  }
 ],
 "metadata": {
  "kernelspec": {
   "display_name": "Python 3",
   "language": "python",
   "name": "python3"
  },
  "language_info": {
   "codemirror_mode": {
    "name": "ipython",
    "version": 3
   },
   "file_extension": ".py",
   "mimetype": "text/x-python",
   "name": "python",
   "nbconvert_exporter": "python",
   "pygments_lexer": "ipython3",
   "version": "3.6.5"
  }
 },
 "nbformat": 4,
 "nbformat_minor": 2
}
