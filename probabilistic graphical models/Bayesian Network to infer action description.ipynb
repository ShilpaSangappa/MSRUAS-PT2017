{
 "cells": [
  {
   "cell_type": "markdown",
   "metadata": {},
   "source": [
    "## Creating a Bayesian Network to infer action description"
   ]
  },
  {
   "cell_type": "markdown",
   "metadata": {},
   "source": [
    "### Add Nodes "
   ]
  },
  {
   "cell_type": "code",
   "execution_count": 4,
   "metadata": {},
   "outputs": [],
   "source": [
    "from pgmpy.models import BayesianModel\n",
    "\n",
    "story_model = BayesianModel([('Mongrels', 'Chandaraka'), \n",
    "                              ('Chandaraka', 'Kakudrama'),\n",
    "                             ('OtherJackals', 'Kakudrama'), \n",
    "                              ('OtherAnimals', 'Kakudrama')])"
   ]
  },
  {
   "cell_type": "markdown",
   "metadata": {},
   "source": [
    "### Create CPD tables"
   ]
  },
  {
   "cell_type": "code",
   "execution_count": 6,
   "metadata": {},
   "outputs": [],
   "source": [
    "from pgmpy.factors.discrete import TabularCPD\n",
    "\n",
    "cpd_Mongrels = TabularCPD(variable=\"Mongrels\", variable_card=3, values=[[1/3,1/3,1/3]])\n",
    "\n",
    "cpd_Chandaraka = TabularCPD(variable=\"Chandaraka\", variable_card=3, values=[[1/3,1/3,1/3],\n",
    "                                                                      [1/3,1/3,1/3],\n",
    "                                                                      [1/3,1/3,1/3]], \n",
    "                           evidence=[\"Mongrels\"],\n",
    "                           evidence_card=[3])\n",
    "cpd_Kakudrama = TabularCPD(variable=\"Kakudrama\", variable_card=2, \n",
    "                        values=[[1/2,1/2],\n",
    "                                [1/2,1/2],\n",
    "                               [1/2,1/2],\n",
    "                               [1/2,1/2],\n",
    "                               [1/2,1/2],\n",
    "                               [1/2,1/2]],\n",
    "                       evidence=[\"OtherJackals\", \"Chandaraka\", \"OtherAnimals\"],\n",
    "                       evidence_card=[1,3,2])\n",
    "cpd_OtherJackals = TabularCPD(variable=\"OtherJackals\", variable_card=1,\n",
    "                     values=[[1]])\n",
    "                     \n",
    "cpd_OtherAnimals = TabularCPD(variable=\"OtherAnimals\", variable_card=2, \n",
    "                         values=[[1/2, 1/2]])"
   ]
  },
  {
   "cell_type": "markdown",
   "metadata": {},
   "source": [
    "### Add CPD tables to model"
   ]
  },
  {
   "cell_type": "code",
   "execution_count": 8,
   "metadata": {},
   "outputs": [
    {
     "name": "stderr",
     "output_type": "stream",
     "text": [
      "WARNING:root:Replacing existing CPD for Mongrels\n",
      "WARNING:root:Replacing existing CPD for Chandaraka\n",
      "WARNING:root:Replacing existing CPD for Kakudrama\n",
      "WARNING:root:Replacing existing CPD for OtherJackals\n",
      "WARNING:root:Replacing existing CPD for OtherAnimals\n"
     ]
    }
   ],
   "source": [
    "story_model.add_cpds(cpd_Mongrels, cpd_Chandaraka, cpd_Kakudrama, cpd_OtherJackals, cpd_OtherAnimals)"
   ]
  },
  {
   "cell_type": "markdown",
   "metadata": {},
   "source": [
    "### Check Model "
   ]
  },
  {
   "cell_type": "code",
   "execution_count": 9,
   "metadata": {},
   "outputs": [
    {
     "data": {
      "text/plain": [
       "True"
      ]
     },
     "execution_count": 9,
     "metadata": {},
     "output_type": "execute_result"
    }
   ],
   "source": [
    "story_model.check_model()"
   ]
  },
  {
   "cell_type": "code",
   "execution_count": 11,
   "metadata": {},
   "outputs": [
    {
     "name": "stdout",
     "output_type": "stream",
     "text": [
      "+--------------+-------------------+\n",
      "| Chandaraka   |   phi(Chandaraka) |\n",
      "+==============+===================+\n",
      "| Chandaraka_0 |            0.3333 |\n",
      "+--------------+-------------------+\n",
      "| Chandaraka_1 |            0.3333 |\n",
      "+--------------+-------------------+\n",
      "| Chandaraka_2 |            0.3333 |\n",
      "+--------------+-------------------+\n"
     ]
    }
   ],
   "source": [
    "# Doing exact inference using Variable Elimination\n",
    "from pgmpy.inference import VariableElimination\n",
    "action_infer = VariableElimination(story_model)\n",
    "\n",
    "# Computing the probability of bronc given smoke.\n",
    "q = action_infer.query(variables=['Chandaraka'], evidence={'Mongrels': 1})\n",
    "print(q['Chandaraka'])"
   ]
  },
  {
   "cell_type": "code",
   "execution_count": 18,
   "metadata": {},
   "outputs": [
    {
     "name": "stdout",
     "output_type": "stream",
     "text": [
      "+-------------+------------------+\n",
      "| Kakudrama   |   phi(Kakudrama) |\n",
      "+=============+==================+\n",
      "| Kakudrama_0 |           0.5000 |\n",
      "+-------------+------------------+\n",
      "| Kakudrama_1 |           0.5000 |\n",
      "+-------------+------------------+\n"
     ]
    }
   ],
   "source": [
    "q = action_infer.query(variables=['Kakudrama'])\n",
    "print(q['Kakudrama'])"
   ]
  },
  {
   "cell_type": "code",
   "execution_count": null,
   "metadata": {},
   "outputs": [],
   "source": []
  }
 ],
 "metadata": {
  "kernelspec": {
   "display_name": "Python 3",
   "language": "python",
   "name": "python3"
  },
  "language_info": {
   "codemirror_mode": {
    "name": "ipython",
    "version": 3
   },
   "file_extension": ".py",
   "mimetype": "text/x-python",
   "name": "python",
   "nbconvert_exporter": "python",
   "pygments_lexer": "ipython3",
   "version": "3.6.5"
  }
 },
 "nbformat": 4,
 "nbformat_minor": 2
}
