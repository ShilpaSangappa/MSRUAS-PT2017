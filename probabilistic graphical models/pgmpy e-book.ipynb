{
 "cells": [
  {
   "cell_type": "markdown",
   "metadata": {},
   "source": [
    "### Representing independencies using pgmpy\n",
    "To represent independencies, pgmpy has two classes, namely IndependenceAssertion and Independencies."
   ]
  },
  {
   "cell_type": "code",
   "execution_count": 1,
   "metadata": {},
   "outputs": [
    {
     "data": {
      "text/plain": [
       "(X _|_ Y)"
      ]
     },
     "execution_count": 1,
     "metadata": {},
     "output_type": "execute_result"
    }
   ],
   "source": [
    "# represent independence assertions using the class - IndependenceAssertion\n",
    "from pgmpy.independencies import IndependenceAssertion\n",
    "assertion1 = IndependenceAssertion('X', 'Y')\n",
    "assertion1"
   ]
  },
  {
   "cell_type": "code",
   "execution_count": 3,
   "metadata": {},
   "outputs": [
    {
     "data": {
      "text/plain": [
       "(X _|_ Y | Z)"
      ]
     },
     "execution_count": 3,
     "metadata": {},
     "output_type": "execute_result"
    }
   ],
   "source": [
    "#assertion1 represents that the variable X is independent of the variable Y. \n",
    "#To represent conditional assertions, we just need to add a third argument to IndependenceAssertion\n",
    "assertion2 = IndependenceAssertion('X', 'Y', 'Z')\n",
    "assertion2"
   ]
  },
  {
   "cell_type": "code",
   "execution_count": 9,
   "metadata": {},
   "outputs": [
    {
     "name": "stdout",
     "output_type": "stream",
     "text": [
      "[]\n",
      "[(X _|_ Y), (X _|_ Y | Z)]\n"
     ]
    }
   ],
   "source": [
    "# class Independencies is used to represent set of independence assertions\n",
    "from pgmpy.independencies import Independencies\n",
    "independencies = Independencies()\n",
    "print(independencies.get_assertions())\n",
    "independencies.add_assertions(assertion1, assertion2)\n",
    "print(independencies.get_assertions())"
   ]
  },
  {
   "cell_type": "code",
   "execution_count": 10,
   "metadata": {},
   "outputs": [
    {
     "name": "stdout",
     "output_type": "stream",
     "text": [
      "[(X _|_ Y), (X _|_ Y | Z)]\n",
      "[(X _|_ Y), (X _|_ Y | Z)]\n"
     ]
    }
   ],
   "source": [
    "#The other way to do the same is direct initialization\n",
    "independencies2 = Independencies(assertion1, assertion2)\n",
    "print(independencies2.get_assertions())\n",
    "\n",
    "independencies3 = Independencies(['X', 'Y'], ['X', 'Y', 'Z'])\n",
    "print(independencies3.get_assertions())"
   ]
  },
  {
   "cell_type": "markdown",
   "metadata": {},
   "source": [
    "### Representing joint probability distributions using pgmpy"
   ]
  },
  {
   "cell_type": "code",
   "execution_count": 11,
   "metadata": {},
   "outputs": [
    {
     "name": "stdout",
     "output_type": "stream",
     "text": [
      "+---------+---------+------------------+\n",
      "| coin1   | coin2   |   P(coin1,coin2) |\n",
      "+=========+=========+==================+\n",
      "| coin1_0 | coin2_0 |           0.2500 |\n",
      "+---------+---------+------------------+\n",
      "| coin1_0 | coin2_1 |           0.2500 |\n",
      "+---------+---------+------------------+\n",
      "| coin1_1 | coin2_0 |           0.2500 |\n",
      "+---------+---------+------------------+\n",
      "| coin1_1 | coin2_1 |           0.2500 |\n",
      "+---------+---------+------------------+\n"
     ]
    }
   ],
   "source": [
    "from pgmpy.factors.discrete import JointProbabilityDistribution as Joint\n",
    "dist = Joint(['coin1', 'coin2'], [2,2], [0.25, 0.25, 0.25, 0.25])\n",
    "print(dist)"
   ]
  },
  {
   "cell_type": "code",
   "execution_count": 14,
   "metadata": {},
   "outputs": [
    {
     "name": "stderr",
     "output_type": "stream",
     "text": [
      "/usr/local/lib/python3.5/dist-packages/pgmpy-0.1.6-py3.5.egg/pgmpy/factors/discrete/DiscreteFactor.py:586: FutureWarning: Using a non-tuple sequence for multidimensional indexing is deprecated; use `arr[tuple(seq)]` instead of `arr[seq]`. In the future this will be interpreted as an array index, `arr[np.array(seq)]`, which will result either in an error or a different result.\n",
      "  phi.values = phi.values[slice_]\n",
      "/usr/local/lib/python3.5/dist-packages/pgmpy-0.1.6-py3.5.egg/pgmpy/factors/discrete/DiscreteFactor.py:598: FutureWarning: Using a non-tuple sequence for multidimensional indexing is deprecated; use `arr[tuple(seq)]` instead of `arr[seq]`. In the future this will be interpreted as an array index, `arr[np.array(seq)]`, which will result either in an error or a different result.\n",
      "  phi1.values = phi1.values[slice_]\n"
     ]
    },
    {
     "data": {
      "text/plain": [
       "True"
      ]
     },
     "execution_count": 14,
     "metadata": {},
     "output_type": "execute_result"
    }
   ],
   "source": [
    "dist.check_independence(['coin1'], ['coin2'])"
   ]
  },
  {
   "cell_type": "markdown",
   "metadata": {},
   "source": [
    "### Conditinal Probability Distribution - CPD\n",
    "CPD is represented using a tabular CPD, which is, we construct a table containing all possible combinations of different states of the random variables and the probabilisties corresponding to those states. "
   ]
  },
  {
   "cell_type": "code",
   "execution_count": 3,
   "metadata": {},
   "outputs": [],
   "source": [
    "from pgmpy.factors.discrete.CPD import TabularCPD"
   ]
  },
  {
   "cell_type": "code",
   "execution_count": 19,
   "metadata": {},
   "outputs": [
    {
     "name": "stdout",
     "output_type": "stream",
     "text": [
      "+-----------+-----+\n",
      "| Quality_0 | 0.3 |\n",
      "+-----------+-----+\n",
      "| Quality_1 | 0.5 |\n",
      "+-----------+-----+\n",
      "| Quality_2 | 0.2 |\n",
      "+-----------+-----+\n",
      "['Quality']\n"
     ]
    }
   ],
   "source": [
    "quality = TabularCPD(variable='Quality', variable_card=3, values=[[0.3], [0.5], [0.2]])\n",
    "print(quality)"
   ]
  },
  {
   "cell_type": "code",
   "execution_count": 28,
   "metadata": {},
   "outputs": [
    {
     "name": "stdout",
     "output_type": "stream",
     "text": [
      "random variables involved in the CPD -->  ['Quality']\n",
      "cardinality -->  [3]\n",
      "values of the CPD -->  [0.3 0.5 0.2]\n"
     ]
    }
   ],
   "source": [
    "print('random variables involved in the CPD --> ', quality.variables)\n",
    "print('cardinality --> ', quality.cardinality)\n",
    "print('values of the CPD --> ', quality.values)"
   ]
  },
  {
   "cell_type": "code",
   "execution_count": 29,
   "metadata": {},
   "outputs": [
    {
     "name": "stdout",
     "output_type": "stream",
     "text": [
      "+------------+-----+\n",
      "| Location_0 | 0.6 |\n",
      "+------------+-----+\n",
      "| Location_1 | 0.4 |\n",
      "+------------+-----+\n"
     ]
    }
   ],
   "source": [
    "location = TabularCPD(variable='Location', variable_card=2, values=[[0.6], [0.4]])\n",
    "print(location)"
   ]
  },
  {
   "cell_type": "code",
   "execution_count": 30,
   "metadata": {},
   "outputs": [],
   "source": [
    "#The above were marginal distributions. Adding conditinality here\n",
    "cost = TabularCPD(variable='Cost', variable_card=2, \n",
    "                  values=[[0.8, 0.6, 0.1, 0.6, 0.6, 0.05], [0.2, 0.4, 0.9, 0.4, 0.4, 0.95]], \n",
    "                  evidence=['Q', 'L'], evidence_card = [3,2])"
   ]
  },
  {
   "cell_type": "code",
   "execution_count": 31,
   "metadata": {},
   "outputs": [
    {
     "name": "stdout",
     "output_type": "stream",
     "text": [
      "+--------+-----+-----+-----+-----+-----+------+\n",
      "| Q      | Q_0 | Q_0 | Q_1 | Q_1 | Q_2 | Q_2  |\n",
      "+--------+-----+-----+-----+-----+-----+------+\n",
      "| L      | L_0 | L_1 | L_0 | L_1 | L_0 | L_1  |\n",
      "+--------+-----+-----+-----+-----+-----+------+\n",
      "| Cost_0 | 0.8 | 0.6 | 0.1 | 0.6 | 0.6 | 0.05 |\n",
      "+--------+-----+-----+-----+-----+-----+------+\n",
      "| Cost_1 | 0.2 | 0.4 | 0.9 | 0.4 | 0.4 | 0.95 |\n",
      "+--------+-----+-----+-----+-----+-----+------+\n"
     ]
    }
   ],
   "source": [
    "print(cost)"
   ]
  },
  {
   "cell_type": "markdown",
   "metadata": {},
   "source": [
    "### Graph theory\n",
    "A graph G = (V, E).\n",
    "\n",
    "Set V = nodes or vertices of the graph\n",
    "\n",
    "Set E = edges or arcs of the graph\n",
    "\n",
    "No. of nodes in G= Cardinality of G = Order of G = |V| \n",
    "\n",
    "No. of edges in G = Size of G = |E|\n",
    "\n",
    "Two vertices, u, v ε V are adjacent if u, v ε E.\n",
    "\n",
    "Neighbors set of v as { u | ( u , v ) ε E }\n",
    "\n",
    "An edge is a self loop if the start vertex and the end vertex of the edge are the same.\n",
    "\n",
    "For a vertex v ε V, we define its outdegree as the number of edges originating from the vertex v, that is, { u | ( v , u ) ε E }.\n",
    "\n",
    "Similarly, the indegree is defined as the number of edges that end at the vertex v, that is, { u | ( u , v ) ε E }.\n",
    "\n",
    "For a graph G = (V, E) and u,v ε V, we define a u - v walk as an alternating sequence of vertices and edges, starting with u and ending with v.\n",
    "\n",
    "A walk with no repeated edges is known as a trail.\n",
    "\n",
    "a walk with no repeated vertices, except possibly the first and the last, is known as a path."
   ]
  },
  {
   "cell_type": "markdown",
   "metadata": {},
   "source": [
    "# Bayesian Networks"
   ]
  },
  {
   "cell_type": "markdown",
   "metadata": {},
   "source": [
    "![title](images/BN1.png)"
   ]
  },
  {
   "cell_type": "code",
   "execution_count": 2,
   "metadata": {},
   "outputs": [],
   "source": [
    "from pgmpy.models import BayesianModel\n",
    "model = BayesianModel()"
   ]
  },
  {
   "cell_type": "code",
   "execution_count": 3,
   "metadata": {},
   "outputs": [
    {
     "name": "stdout",
     "output_type": "stream",
     "text": [
      "Nodes ->  ['rain', 'traffic_jam', 'accident']\n",
      "Edges ->  [('rain', 'traffic_jam'), ('accident', 'traffic_jam')]\n"
     ]
    }
   ],
   "source": [
    "#Add Nodes and Edges to the BN\n",
    "model.add_nodes_from(['rain', 'traffic_jam'])\n",
    "model.add_edge('rain', 'traffic_jam')\n",
    "\n",
    "model.add_edge('accident', 'traffic_jam')\n",
    "print(\"Nodes -> \", model.nodes())\n",
    "print(\"Edges -> \", model.edges())"
   ]
  },
  {
   "cell_type": "code",
   "execution_count": 4,
   "metadata": {},
   "outputs": [],
   "source": [
    "#Create CPD's\n",
    "from pgmpy.factors.discrete import TabularCPD\n",
    "cpd_rain = TabularCPD('rain', 2, [[0.4], [0.6]])\n",
    "cpd_accident = TabularCPD('accident', 2, [[0.2], [0.8]])\n",
    "cpd_traffic_jam = TabularCPD('traffic_jam', 2, \n",
    "                             [[0.9, 0.6, 0.7, 0.1],\n",
    "                              [0.1, 0.4, 0.3, 0.9]],\n",
    "                            evidence = ['rain', 'accident'],\n",
    "                            evidence_card=[2,2])"
   ]
  },
  {
   "cell_type": "code",
   "execution_count": 5,
   "metadata": {},
   "outputs": [
    {
     "data": {
      "text/plain": [
       "[<TabularCPD representing P(rain:2) at 0xa0ad9c0c>,\n",
       " <TabularCPD representing P(accident:2) at 0xa0ad9d0c>,\n",
       " <TabularCPD representing P(traffic_jam:2 | rain:2, accident:2) at 0xa0ad9eec>]"
      ]
     },
     "execution_count": 5,
     "metadata": {},
     "output_type": "execute_result"
    }
   ],
   "source": [
    "#Add CPD's\n",
    "model.add_cpds(cpd_rain, cpd_accident,cpd_traffic_jam)\n",
    "model.get_cpds()"
   ]
  },
  {
   "cell_type": "code",
   "execution_count": 6,
   "metadata": {},
   "outputs": [
    {
     "name": "stdout",
     "output_type": "stream",
     "text": [
      "[<TabularCPD representing P(rain:2) at 0xa0ad9c0c>, <TabularCPD representing P(accident:2) at 0xa0ad9d0c>, <TabularCPD representing P(traffic_jam:2 | rain:2, accident:2) at 0xa0ad9eec>, <TabularCPD representing P(long_queues:2 | traffic_jam:2) at 0xa0ae3c8c>, <TabularCPD representing P(getting_up_late:2) at 0xa0ae3e6c>, <TabularCPD representing P(late_for_school:2 | getting_up_late:2, traffic_jam:2) at 0xa0ae3eac>]\n"
     ]
    },
    {
     "data": {
      "text/plain": [
       "True"
      ]
     },
     "execution_count": 6,
     "metadata": {},
     "output_type": "execute_result"
    }
   ],
   "source": [
    "#Adding rest of the nodes and CPD's\n",
    "model.add_nodes_from(['long_queues', 'getting_up_late', 'late_for_school'])\n",
    "\n",
    "model.add_edges_from([('traffic_jam', 'long_queues'), \n",
    "                      ('getting_up_late', 'late_for_school'), \n",
    "                      ('traffic_jam', 'late_for_school')])\n",
    "\n",
    "cpd_long_queues=TabularCPD('long_queues',2,\n",
    "                           [[0.9, 0.2],\n",
    "                            [0.1, 0.8]], \n",
    "                          evidence=['traffic_jam'],\n",
    "                          evidence_card=[2])\n",
    "\n",
    "cpd_getting_up_late = TabularCPD('getting_up_late', 2, [[0.6], [0.4]])\n",
    "\n",
    "cpd_late_for_school = TabularCPD('late_for_school', 2, \n",
    "                                [[0.9, 0.45, 0.8, 0.1],\n",
    "                                 [0.1, 0.55, 0.2, 0.9]],\n",
    "                                evidence=['getting_up_late', 'traffic_jam'],\n",
    "                                evidence_card = [2,2])\n",
    "\n",
    "model.add_cpds(cpd_long_queues, cpd_getting_up_late, cpd_late_for_school)\n",
    "print(model.get_cpds())\n",
    "model.check_model()"
   ]
  },
  {
   "cell_type": "code",
   "execution_count": 7,
   "metadata": {},
   "outputs": [],
   "source": [
    "#remove_cpds() method to remove an already added cpd in the graph\n",
    "#model.remove_cpds('late_for_school') "
   ]
  },
  {
   "cell_type": "markdown",
   "metadata": {},
   "source": [
    "In a network, how do we know if a variable influences another variable? Let's say we want to check the independence conditions for X1 and Xn . Also, let's say they are connected by a trail X1 ↔ X2 ↔ ... ↔ X(n − 1) ↔ Xn and let Z be the set of observed variables in the Bayesian network. In this case, X1 will be able to influence Xn if and only if the following two conditions are satisfied:\n",
    "\n",
    "•\t For every V structure of the form X(i − 1) → Xi ← X(i + 1) in the trail, either X i ε Z\n",
    "        or any descendant of X i is an element of Z\n",
    "        \n",
    "•\t No other node on the trail is in Z\n",
    "\n",
    "If an influence can flow in a trail in a network, it is known as an active trail."
   ]
  },
  {
   "cell_type": "code",
   "execution_count": 8,
   "metadata": {},
   "outputs": [
    {
     "data": {
      "text/plain": [
       "False"
      ]
     },
     "execution_count": 8,
     "metadata": {},
     "output_type": "execute_result"
    }
   ],
   "source": [
    "model.is_active_trail('accident', 'rain')"
   ]
  },
  {
   "cell_type": "code",
   "execution_count": 9,
   "metadata": {},
   "outputs": [
    {
     "data": {
      "text/plain": [
       "True"
      ]
     },
     "execution_count": 9,
     "metadata": {},
     "output_type": "execute_result"
    }
   ],
   "source": [
    "model.is_active_trail('accident', 'rain', observed='traffic_jam')"
   ]
  },
  {
   "cell_type": "code",
   "execution_count": 10,
   "metadata": {},
   "outputs": [
    {
     "data": {
      "text/plain": [
       "False"
      ]
     },
     "execution_count": 10,
     "metadata": {},
     "output_type": "execute_result"
    }
   ],
   "source": [
    "model.is_active_trail('getting_up_late', 'rain')"
   ]
  },
  {
   "cell_type": "code",
   "execution_count": 11,
   "metadata": {},
   "outputs": [
    {
     "data": {
      "text/plain": [
       "True"
      ]
     },
     "execution_count": 11,
     "metadata": {},
     "output_type": "execute_result"
    }
   ],
   "source": [
    "model.is_active_trail('getting_up_late', 'rain', observed='late_for_school')"
   ]
  },
  {
   "cell_type": "markdown",
   "metadata": {},
   "source": [
    "# Markov Networks"
   ]
  },
  {
   "cell_type": "markdown",
   "metadata": {},
   "source": [
    "## Parameterizing a Markov network – factor"
   ]
  },
  {
   "cell_type": "code",
   "execution_count": 4,
   "metadata": {},
   "outputs": [],
   "source": [
    "from pgmpy.factors.discrete.CPD import DiscreteFactor"
   ]
  },
  {
   "cell_type": "code",
   "execution_count": 17,
   "metadata": {},
   "outputs": [],
   "source": [
    "# Each factor is represented by it's scope, cardinality of the random variables in the scope and their values\n",
    "phi = DiscreteFactor(['A', 'B'], [2,2], [1000,1,5,100])"
   ]
  },
  {
   "cell_type": "code",
   "execution_count": 18,
   "metadata": {},
   "outputs": [
    {
     "name": "stdout",
     "output_type": "stream",
     "text": [
      "+-----+-----+------------+\n",
      "| A   | B   |   phi(A,B) |\n",
      "+=====+=====+============+\n",
      "| A_0 | B_0 |  1000.0000 |\n",
      "+-----+-----+------------+\n",
      "| A_0 | B_1 |     1.0000 |\n",
      "+-----+-----+------------+\n",
      "| A_1 | B_0 |     5.0000 |\n",
      "+-----+-----+------------+\n",
      "| A_1 | B_1 |   100.0000 |\n",
      "+-----+-----+------------+\n"
     ]
    }
   ],
   "source": [
    "print(phi)"
   ]
  },
  {
   "cell_type": "markdown",
   "metadata": {},
   "source": [
    "### Factor Operations - Marginalizing"
   ]
  },
  {
   "cell_type": "code",
   "execution_count": 19,
   "metadata": {},
   "outputs": [
    {
     "name": "stdout",
     "output_type": "stream",
     "text": [
      "['A']\n",
      "+-----+-----+------------+\n",
      "| A   | B   |   phi(A,B) |\n",
      "+=====+=====+============+\n",
      "| A_0 | B_0 |  1000.0000 |\n",
      "+-----+-----+------------+\n",
      "| A_0 | B_1 |     1.0000 |\n",
      "+-----+-----+------------+\n",
      "| A_1 | B_0 |     5.0000 |\n",
      "+-----+-----+------------+\n",
      "| A_1 | B_1 |   100.0000 |\n",
      "+-----+-----+------------+\n",
      "+-----+-----------+\n",
      "| A   |    phi(A) |\n",
      "+=====+===========+\n",
      "| A_0 | 1001.0000 |\n",
      "+-----+-----------+\n",
      "| A_1 |  105.0000 |\n",
      "+-----+-----------+\n"
     ]
    }
   ],
   "source": [
    "phi_marginalized = phi.marginalize(['B'], inplace=False)\n",
    "print(phi_marginalized.scope())\n",
    "print(phi)\n",
    "print(phi_marginalized)"
   ]
  },
  {
   "cell_type": "code",
   "execution_count": 14,
   "metadata": {},
   "outputs": [
    {
     "name": "stdout",
     "output_type": "stream",
     "text": [
      "+-----+-----------+\n",
      "| A   |    phi(A) |\n",
      "+=====+===========+\n",
      "| A_0 | 1001.0000 |\n",
      "+-----+-----------+\n",
      "| A_1 |  105.0000 |\n",
      "+-----+-----------+\n"
     ]
    }
   ],
   "source": [
    "# If inplace=True (default), it would modify the original factor\n",
    "phi.marginalize(['B'])\n",
    "print(phi)"
   ]
  },
  {
   "cell_type": "code",
   "execution_count": 23,
   "metadata": {},
   "outputs": [
    {
     "name": "stdout",
     "output_type": "stream",
     "text": [
      "+---------+-----------+------------+-------------------------------+\n",
      "| price   | quality   | location   |   phi(price,quality,location) |\n",
      "+=========+===========+============+===============================+\n",
      "| price_0 | quality_0 | location_0 |                        0.0000 |\n",
      "+---------+-----------+------------+-------------------------------+\n",
      "| price_0 | quality_0 | location_1 |                        1.0000 |\n",
      "+---------+-----------+------------+-------------------------------+\n",
      "| price_0 | quality_1 | location_0 |                        2.0000 |\n",
      "+---------+-----------+------------+-------------------------------+\n",
      "| price_0 | quality_1 | location_1 |                        3.0000 |\n",
      "+---------+-----------+------------+-------------------------------+\n",
      "| price_1 | quality_0 | location_0 |                        4.0000 |\n",
      "+---------+-----------+------------+-------------------------------+\n",
      "| price_1 | quality_0 | location_1 |                        5.0000 |\n",
      "+---------+-----------+------------+-------------------------------+\n",
      "| price_1 | quality_1 | location_0 |                        6.0000 |\n",
      "+---------+-----------+------------+-------------------------------+\n",
      "| price_1 | quality_1 | location_1 |                        7.0000 |\n",
      "+---------+-----------+------------+-------------------------------+\n"
     ]
    }
   ],
   "source": [
    "# Marginalizing more than one random variable\n",
    "import numpy as np\n",
    "price = DiscreteFactor(['price', 'quality', 'location'], [2,2,2], np.arange(8))\n",
    "print(price)"
   ]
  },
  {
   "cell_type": "code",
   "execution_count": 25,
   "metadata": {},
   "outputs": [
    {
     "name": "stdout",
     "output_type": "stream",
     "text": [
      "+---------+--------------+\n",
      "| price   |   phi(price) |\n",
      "+=========+==============+\n",
      "| price_0 |       6.0000 |\n",
      "+---------+--------------+\n",
      "| price_1 |      22.0000 |\n",
      "+---------+--------------+\n",
      "['price']\n"
     ]
    }
   ],
   "source": [
    "price_mar = price.marginalize(['quality', 'location'], inplace=False)\n",
    "print(price_mar)\n",
    "print(price_mar.scope())"
   ]
  },
  {
   "cell_type": "markdown",
   "metadata": {},
   "source": [
    "### Factor Operations - Reduction (Reduced Markov Network)"
   ]
  },
  {
   "cell_type": "markdown",
   "metadata": {},
   "source": [
    "Reduction of a factor φ whose scope is W to the context x_i means removing all the entries from the factor where X = x_i. \n",
    "\n",
    "This reduces the scope to W − X , as φ no longer depends on X.\n",
    "\n",
    "In this example phi, let's try to reduce to the context of b_0"
   ]
  },
  {
   "cell_type": "code",
   "execution_count": 38,
   "metadata": {},
   "outputs": [
    {
     "name": "stdout",
     "output_type": "stream",
     "text": [
      "+-----+-----+------------+\n",
      "| A   | B   |   phi(A,B) |\n",
      "+=====+=====+============+\n",
      "| A_0 | B_0 |  1000.0000 |\n",
      "+-----+-----+------------+\n",
      "| A_0 | B_1 |     1.0000 |\n",
      "+-----+-----+------------+\n",
      "| A_1 | B_0 |     5.0000 |\n",
      "+-----+-----+------------+\n",
      "| A_1 | B_1 |   100.0000 |\n",
      "+-----+-----+------------+\n",
      "\n",
      "phi_reduced\n",
      " +-----+-----------+\n",
      "| A   |    phi(A) |\n",
      "+=====+===========+\n",
      "| A_0 | 1000.0000 |\n",
      "+-----+-----------+\n",
      "| A_1 |    5.0000 |\n",
      "+-----+-----------+\n"
     ]
    }
   ],
   "source": [
    "# EXAMPLE 1\n",
    "phi = DiscreteFactor(['A', 'B'], [2,2], [1000, 1, 5, 100])\n",
    "print(phi)\n",
    "phi_reduced = phi.reduce([('B', 0)], inplace=False)\n",
    "print(\"\\nphi_reduced\\n\", phi_reduced)"
   ]
  },
  {
   "cell_type": "code",
   "execution_count": 39,
   "metadata": {},
   "outputs": [
    {
     "name": "stdout",
     "output_type": "stream",
     "text": [
      "+---------+-----------+------------+-------------------------------+\n",
      "| price   | quality   | location   |   phi(price,quality,location) |\n",
      "+=========+===========+============+===============================+\n",
      "| price_0 | quality_0 | location_0 |                        0.0000 |\n",
      "+---------+-----------+------------+-------------------------------+\n",
      "| price_0 | quality_0 | location_1 |                        1.0000 |\n",
      "+---------+-----------+------------+-------------------------------+\n",
      "| price_0 | quality_1 | location_0 |                        2.0000 |\n",
      "+---------+-----------+------------+-------------------------------+\n",
      "| price_0 | quality_1 | location_1 |                        3.0000 |\n",
      "+---------+-----------+------------+-------------------------------+\n",
      "| price_1 | quality_0 | location_0 |                        4.0000 |\n",
      "+---------+-----------+------------+-------------------------------+\n",
      "| price_1 | quality_0 | location_1 |                        5.0000 |\n",
      "+---------+-----------+------------+-------------------------------+\n",
      "| price_1 | quality_1 | location_0 |                        6.0000 |\n",
      "+---------+-----------+------------+-------------------------------+\n",
      "| price_1 | quality_1 | location_1 |                        7.0000 |\n",
      "+---------+-----------+------------+-------------------------------+\n",
      "\n",
      "price_reduced\n",
      " +---------+-----------+----------------------+\n",
      "| price   | quality   |   phi(price,quality) |\n",
      "+=========+===========+======================+\n",
      "| price_0 | quality_0 |               0.0000 |\n",
      "+---------+-----------+----------------------+\n",
      "| price_0 | quality_1 |               2.0000 |\n",
      "+---------+-----------+----------------------+\n",
      "| price_1 | quality_0 |               4.0000 |\n",
      "+---------+-----------+----------------------+\n",
      "| price_1 | quality_1 |               6.0000 |\n",
      "+---------+-----------+----------------------+\n"
     ]
    }
   ],
   "source": [
    "# reducing more than one random variable\n",
    "import numpy as np\n",
    "price = DiscreteFactor(['price', 'quality', 'location'], [2,2,2], np.arange(8))\n",
    "print(price)\n",
    "\n",
    "# retains entries for location_0 only and removes 'location' from the scope\n",
    "price_reduced = price.reduce([('location', 0)], inplace=False)\n",
    "print(\"\\nprice_reduced\\n\", price_reduced)"
   ]
  },
  {
   "cell_type": "markdown",
   "metadata": {},
   "source": [
    "### Factor Operations - Factor Product"
   ]
  },
  {
   "cell_type": "code",
   "execution_count": 43,
   "metadata": {},
   "outputs": [
    {
     "name": "stdout",
     "output_type": "stream",
     "text": [
      "['a', 'b', 'c']\n",
      "+-----+-----+-----+--------------+\n",
      "| a   | b   | c   |   phi(a,b,c) |\n",
      "+=====+=====+=====+==============+\n",
      "| a_0 | b_0 | c_0 |    1000.0000 |\n",
      "+-----+-----+-----+--------------+\n",
      "| a_0 | b_0 | c_1 |  100000.0000 |\n",
      "+-----+-----+-----+--------------+\n",
      "| a_0 | b_0 | c_2 |    5000.0000 |\n",
      "+-----+-----+-----+--------------+\n",
      "| a_0 | b_1 | c_0 |     200.0000 |\n",
      "+-----+-----+-----+--------------+\n",
      "| a_0 | b_1 | c_1 |       3.0000 |\n",
      "+-----+-----+-----+--------------+\n",
      "| a_0 | b_1 | c_2 |     100.0000 |\n",
      "+-----+-----+-----+--------------+\n",
      "| a_1 | b_0 | c_0 |       5.0000 |\n",
      "+-----+-----+-----+--------------+\n",
      "| a_1 | b_0 | c_1 |     500.0000 |\n",
      "+-----+-----+-----+--------------+\n",
      "| a_1 | b_0 | c_2 |      25.0000 |\n",
      "+-----+-----+-----+--------------+\n",
      "| a_1 | b_1 | c_0 |   20000.0000 |\n",
      "+-----+-----+-----+--------------+\n",
      "| a_1 | b_1 | c_1 |     300.0000 |\n",
      "+-----+-----+-----+--------------+\n",
      "| a_1 | b_1 | c_2 |   10000.0000 |\n",
      "+-----+-----+-----+--------------+\n"
     ]
    }
   ],
   "source": [
    "phi1 = DiscreteFactor(['a', 'b'], [2,2], [1000,1, 5, 100])\n",
    "phi2 = DiscreteFactor(['b', 'c'], [2,3], [1,100,5,200,3,100])\n",
    "phi = phi1 * phi2\n",
    "print(phi.scope())\n",
    "print(phi)"
   ]
  },
  {
   "cell_type": "code",
   "execution_count": 45,
   "metadata": {},
   "outputs": [
    {
     "name": "stdout",
     "output_type": "stream",
     "text": [
      "None\n"
     ]
    }
   ],
   "source": [
    "#TODO: This is not working\n",
    "\n",
    "# Factor product can also be done using the method product()\n",
    "phi_new = phi1.product(phi2)\n",
    "print(phi_new)"
   ]
  },
  {
   "cell_type": "markdown",
   "metadata": {},
   "source": [
    "## Gibbs distributions and Markov networks"
   ]
  },
  {
   "cell_type": "code",
   "execution_count": 46,
   "metadata": {},
   "outputs": [],
   "source": [
    "from pgmpy.models import MarkovModel\n",
    "model = MarkovModel([('A', 'B'), ('B', 'C')])\n",
    "model.add_node('D')\n",
    "model.add_edges_from([('C', 'D'), ('A', 'D')])"
   ]
  },
  {
   "cell_type": "code",
   "execution_count": 48,
   "metadata": {},
   "outputs": [
    {
     "data": {
      "text/plain": [
       "[<DiscreteFactor representing phi(A:2, B:2) at 0xa861870c>,\n",
       " <DiscreteFactor representing phi(B:2, C:2) at 0xa861872c>,\n",
       " <DiscreteFactor representing phi(C:2, D:2) at 0xa861876c>,\n",
       " <DiscreteFactor representing phi(D:2, A:2) at 0xa86187ac>]"
      ]
     },
     "execution_count": 48,
     "metadata": {},
     "output_type": "execute_result"
    }
   ],
   "source": [
    "from pgmpy.factors.discrete import DiscreteFactor\n",
    "\n",
    "factor_ab = DiscreteFactor(['A', 'B'], [2,2], [90, 100, 1, 10])\n",
    "\n",
    "factor_bc = DiscreteFactor(['B', 'C'], [2,2], [10, 80, 70, 30])\n",
    "\n",
    "factor_cd = DiscreteFactor(['C', 'D'], [2,2], [10, 1, 100, 90])\n",
    "\n",
    "factor_da = DiscreteFactor(['D', 'A'], [2,2], [80, 60, 20, 10])\n",
    "\n",
    "model.add_factors(factor_ab, factor_bc, factor_cd, factor_da)\n",
    "model.get_factors()"
   ]
  },
  {
   "cell_type": "markdown",
   "metadata": {},
   "source": [
    "## Independencies in Markov networks"
   ]
  },
  {
   "cell_type": "code",
   "execution_count": 49,
   "metadata": {},
   "outputs": [
    {
     "data": {
      "text/plain": [
       "(x1 _|_ x6, x5, x2, x7 | x3, x4)\n",
       "(x2 _|_ x6, x7, x1, x3 | x5, x4)\n",
       "(x3 _|_ x7, x5, x2, x4 | x6, x1)\n",
       "(x4 _|_ x5, x3 | x6, x7, x1, x2)\n",
       "(x5 _|_ x6, x1, x3, x4 | x7, x2)\n",
       "(x6 _|_ x5, x1, x2, x7 | x3, x4)\n",
       "(x7 _|_ x6, x2, x1, x3 | x5, x4)"
      ]
     },
     "execution_count": 49,
     "metadata": {},
     "output_type": "execute_result"
    }
   ],
   "source": [
    "from pgmpy.models import MarkovModel\n",
    "mm = MarkovModel()\n",
    "mm.add_nodes_from(['x1', 'x2', 'x3', 'x4', 'x5', 'x6', 'x7'])\n",
    "mm.add_edges_from([('x1', 'x3'), ('x1', 'x4'), ('x2', 'x4'), ('x2', 'x5'), ('x3', 'x6'), \n",
    "                   ('x4', 'x6'), ('x4', 'x7'), ('x5', 'x7')])\n",
    "mm.get_local_independencies()"
   ]
  },
  {
   "cell_type": "code",
   "execution_count": null,
   "metadata": {},
   "outputs": [],
   "source": []
  }
 ],
 "metadata": {
  "kernelspec": {
   "display_name": "Python 3",
   "language": "python",
   "name": "python3"
  },
  "language_info": {
   "codemirror_mode": {
    "name": "ipython",
    "version": 3
   },
   "file_extension": ".py",
   "mimetype": "text/x-python",
   "name": "python",
   "nbconvert_exporter": "python",
   "pygments_lexer": "ipython3",
   "version": "3.6.5"
  }
 },
 "nbformat": 4,
 "nbformat_minor": 2
}
