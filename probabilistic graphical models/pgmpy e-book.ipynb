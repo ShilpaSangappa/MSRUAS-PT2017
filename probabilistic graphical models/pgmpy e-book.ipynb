{
 "cells": [
  {
   "cell_type": "markdown",
   "metadata": {},
   "source": [
    "### Representing independencies using pgmpy\n",
    "To represent independencies, pgmpy has two classes, namely IndependenceAssertion and Independencies."
   ]
  },
  {
   "cell_type": "code",
   "execution_count": 2,
   "metadata": {},
   "outputs": [
    {
     "data": {
      "text/plain": [
       "(X _|_ Y)"
      ]
     },
     "execution_count": 2,
     "metadata": {},
     "output_type": "execute_result"
    }
   ],
   "source": [
    "# represent independence assertions using the class - IndependenceAssertion\n",
    "from pgmpy.independencies import IndependenceAssertion\n",
    "assertion1 = IndependenceAssertion('X', 'Y')\n",
    "assertion1"
   ]
  },
  {
   "cell_type": "code",
   "execution_count": 3,
   "metadata": {},
   "outputs": [
    {
     "data": {
      "text/plain": [
       "(X _|_ Y | Z)"
      ]
     },
     "execution_count": 3,
     "metadata": {},
     "output_type": "execute_result"
    }
   ],
   "source": [
    "#assertion1 represents that the variable X is independent of the variable Y. \n",
    "#To represent conditional assertions, we just need to add a third argument to IndependenceAssertion\n",
    "assertion2 = IndependenceAssertion('X', 'Y', 'Z')\n",
    "assertion2"
   ]
  },
  {
   "cell_type": "code",
   "execution_count": 9,
   "metadata": {},
   "outputs": [
    {
     "name": "stdout",
     "output_type": "stream",
     "text": [
      "[]\n",
      "[(X _|_ Y), (X _|_ Y | Z)]\n"
     ]
    }
   ],
   "source": [
    "# class Independencies is used to represent set of independence assertions\n",
    "from pgmpy.independencies import Independencies\n",
    "independencies = Independencies()\n",
    "print(independencies.get_assertions())\n",
    "independencies.add_assertions(assertion1, assertion2)\n",
    "print(independencies.get_assertions())"
   ]
  },
  {
   "cell_type": "code",
   "execution_count": 10,
   "metadata": {},
   "outputs": [
    {
     "name": "stdout",
     "output_type": "stream",
     "text": [
      "[(X _|_ Y), (X _|_ Y | Z)]\n",
      "[(X _|_ Y), (X _|_ Y | Z)]\n"
     ]
    }
   ],
   "source": [
    "#The other way to do the same is direct initialization\n",
    "independencies2 = Independencies(assertion1, assertion2)\n",
    "print(independencies2.get_assertions())\n",
    "\n",
    "independencies3 = Independencies(['X', 'Y'], ['X', 'Y', 'Z'])\n",
    "print(independencies3.get_assertions())"
   ]
  },
  {
   "cell_type": "markdown",
   "metadata": {},
   "source": [
    "### Representing joint probability distributions using pgmpy"
   ]
  },
  {
   "cell_type": "code",
   "execution_count": 11,
   "metadata": {},
   "outputs": [
    {
     "name": "stdout",
     "output_type": "stream",
     "text": [
      "+---------+---------+------------------+\n",
      "| coin1   | coin2   |   P(coin1,coin2) |\n",
      "+=========+=========+==================+\n",
      "| coin1_0 | coin2_0 |           0.2500 |\n",
      "+---------+---------+------------------+\n",
      "| coin1_0 | coin2_1 |           0.2500 |\n",
      "+---------+---------+------------------+\n",
      "| coin1_1 | coin2_0 |           0.2500 |\n",
      "+---------+---------+------------------+\n",
      "| coin1_1 | coin2_1 |           0.2500 |\n",
      "+---------+---------+------------------+\n"
     ]
    }
   ],
   "source": [
    "from pgmpy.factors.discrete import JointProbabilityDistribution as Joint\n",
    "dist = Joint(['coin1', 'coin2'], [2,2], [0.25, 0.25, 0.25, 0.25])\n",
    "print(dist)"
   ]
  },
  {
   "cell_type": "code",
   "execution_count": 14,
   "metadata": {},
   "outputs": [
    {
     "name": "stderr",
     "output_type": "stream",
     "text": [
      "/usr/local/lib/python3.5/dist-packages/pgmpy-0.1.6-py3.5.egg/pgmpy/factors/discrete/DiscreteFactor.py:586: FutureWarning: Using a non-tuple sequence for multidimensional indexing is deprecated; use `arr[tuple(seq)]` instead of `arr[seq]`. In the future this will be interpreted as an array index, `arr[np.array(seq)]`, which will result either in an error or a different result.\n",
      "  phi.values = phi.values[slice_]\n",
      "/usr/local/lib/python3.5/dist-packages/pgmpy-0.1.6-py3.5.egg/pgmpy/factors/discrete/DiscreteFactor.py:598: FutureWarning: Using a non-tuple sequence for multidimensional indexing is deprecated; use `arr[tuple(seq)]` instead of `arr[seq]`. In the future this will be interpreted as an array index, `arr[np.array(seq)]`, which will result either in an error or a different result.\n",
      "  phi1.values = phi1.values[slice_]\n"
     ]
    },
    {
     "data": {
      "text/plain": [
       "True"
      ]
     },
     "execution_count": 14,
     "metadata": {},
     "output_type": "execute_result"
    }
   ],
   "source": [
    "dist.check_independence(['coin1'], ['coin2'])"
   ]
  },
  {
   "cell_type": "markdown",
   "metadata": {},
   "source": [
    "### Conditinal Probability Distribution - CPD\n",
    "CPD is represented using a tabular CPD, which is, we construct a table containing all possible combinations of different states of the random variables and the probabilisties corresponding to those states. "
   ]
  },
  {
   "cell_type": "code",
   "execution_count": 15,
   "metadata": {},
   "outputs": [],
   "source": [
    "from pgmpy.factors.discrete.CPD import TabularCPD\n"
   ]
  },
  {
   "cell_type": "code",
   "execution_count": 19,
   "metadata": {},
   "outputs": [
    {
     "name": "stdout",
     "output_type": "stream",
     "text": [
      "+-----------+-----+\n",
      "| Quality_0 | 0.3 |\n",
      "+-----------+-----+\n",
      "| Quality_1 | 0.5 |\n",
      "+-----------+-----+\n",
      "| Quality_2 | 0.2 |\n",
      "+-----------+-----+\n",
      "['Quality']\n"
     ]
    }
   ],
   "source": [
    "quality = TabularCPD(variable='Quality', variable_card=3, values=[[0.3], [0.5], [0.2]])\n",
    "print(quality)"
   ]
  },
  {
   "cell_type": "code",
   "execution_count": 28,
   "metadata": {},
   "outputs": [
    {
     "name": "stdout",
     "output_type": "stream",
     "text": [
      "random variables involved in the CPD -->  ['Quality']\n",
      "cardinality -->  [3]\n",
      "values of the CPD -->  [0.3 0.5 0.2]\n"
     ]
    }
   ],
   "source": [
    "print('random variables involved in the CPD --> ', quality.variables)\n",
    "print('cardinality --> ', quality.cardinality)\n",
    "print('values of the CPD --> ', quality.values)"
   ]
  },
  {
   "cell_type": "code",
   "execution_count": 29,
   "metadata": {},
   "outputs": [
    {
     "name": "stdout",
     "output_type": "stream",
     "text": [
      "+------------+-----+\n",
      "| Location_0 | 0.6 |\n",
      "+------------+-----+\n",
      "| Location_1 | 0.4 |\n",
      "+------------+-----+\n"
     ]
    }
   ],
   "source": [
    "location = TabularCPD(variable='Location', variable_card=2, values=[[0.6], [0.4]])\n",
    "print(location)"
   ]
  },
  {
   "cell_type": "code",
   "execution_count": 30,
   "metadata": {},
   "outputs": [],
   "source": [
    "#The above were marginal distributions. Adding conditinality here\n",
    "cost = TabularCPD(variable='Cost', variable_card=2, \n",
    "                  values=[[0.8, 0.6, 0.1, 0.6, 0.6, 0.05], [0.2, 0.4, 0.9, 0.4, 0.4, 0.95]], \n",
    "                  evidence=['Q', 'L'], evidence_card = [3,2])"
   ]
  },
  {
   "cell_type": "code",
   "execution_count": 31,
   "metadata": {},
   "outputs": [
    {
     "name": "stdout",
     "output_type": "stream",
     "text": [
      "+--------+-----+-----+-----+-----+-----+------+\n",
      "| Q      | Q_0 | Q_0 | Q_1 | Q_1 | Q_2 | Q_2  |\n",
      "+--------+-----+-----+-----+-----+-----+------+\n",
      "| L      | L_0 | L_1 | L_0 | L_1 | L_0 | L_1  |\n",
      "+--------+-----+-----+-----+-----+-----+------+\n",
      "| Cost_0 | 0.8 | 0.6 | 0.1 | 0.6 | 0.6 | 0.05 |\n",
      "+--------+-----+-----+-----+-----+-----+------+\n",
      "| Cost_1 | 0.2 | 0.4 | 0.9 | 0.4 | 0.4 | 0.95 |\n",
      "+--------+-----+-----+-----+-----+-----+------+\n"
     ]
    }
   ],
   "source": [
    "print(cost)"
   ]
  },
  {
   "cell_type": "code",
   "execution_count": null,
   "metadata": {},
   "outputs": [],
   "source": []
  }
 ],
 "metadata": {
  "kernelspec": {
   "display_name": "Python 3",
   "language": "python",
   "name": "python3"
  },
  "language_info": {
   "codemirror_mode": {
    "name": "ipython",
    "version": 3
   },
   "file_extension": ".py",
   "mimetype": "text/x-python",
   "name": "python",
   "nbconvert_exporter": "python",
   "pygments_lexer": "ipython3",
   "version": "3.5.2"
  }
 },
 "nbformat": 4,
 "nbformat_minor": 2
}
