{
 "cells": [
  {
   "cell_type": "markdown",
   "metadata": {},
   "source": [
    "### Representing independencies using pgmpy\n",
    "To represent independencies, pgmpy has two classes, namely IndependenceAssertion and Independencies."
   ]
  },
  {
   "cell_type": "code",
   "execution_count": 2,
   "metadata": {},
   "outputs": [
    {
     "data": {
      "text/plain": [
       "(X _|_ Y)"
      ]
     },
     "execution_count": 2,
     "metadata": {},
     "output_type": "execute_result"
    }
   ],
   "source": [
    "# represent independence assertions using the class - IndependenceAssertion\n",
    "from pgmpy.independencies import IndependenceAssertion\n",
    "assertion1 = IndependenceAssertion('X', 'Y')\n",
    "assertion1"
   ]
  },
  {
   "cell_type": "code",
   "execution_count": 3,
   "metadata": {},
   "outputs": [
    {
     "data": {
      "text/plain": [
       "(X _|_ Y | Z)"
      ]
     },
     "execution_count": 3,
     "metadata": {},
     "output_type": "execute_result"
    }
   ],
   "source": [
    "#assertion1 represents that the variable X is independent of the variable Y. \n",
    "#To represent conditional assertions, we just need to add a third argument to IndependenceAssertion\n",
    "assertion2 = IndependenceAssertion('X', 'Y', 'Z')\n",
    "assertion2"
   ]
  },
  {
   "cell_type": "code",
   "execution_count": 9,
   "metadata": {},
   "outputs": [
    {
     "name": "stdout",
     "output_type": "stream",
     "text": [
      "[]\n",
      "[(X _|_ Y), (X _|_ Y | Z)]\n"
     ]
    }
   ],
   "source": [
    "# class Independencies is used to represent set of independence assertions\n",
    "from pgmpy.independencies import Independencies\n",
    "independencies = Independencies()\n",
    "print(independencies.get_assertions())\n",
    "independencies.add_assertions(assertion1, assertion2)\n",
    "print(independencies.get_assertions())"
   ]
  },
  {
   "cell_type": "code",
   "execution_count": 10,
   "metadata": {},
   "outputs": [
    {
     "name": "stdout",
     "output_type": "stream",
     "text": [
      "[(X _|_ Y), (X _|_ Y | Z)]\n",
      "[(X _|_ Y), (X _|_ Y | Z)]\n"
     ]
    }
   ],
   "source": [
    "#The other way to do the same is direct initialization\n",
    "independencies2 = Independencies(assertion1, assertion2)\n",
    "print(independencies2.get_assertions())\n",
    "\n",
    "independencies3 = Independencies(['X', 'Y'], ['X', 'Y', 'Z'])\n",
    "print(independencies3.get_assertions())"
   ]
  },
  {
   "cell_type": "markdown",
   "metadata": {},
   "source": [
    "### Representing joint probability distributions using pgmpy"
   ]
  },
  {
   "cell_type": "code",
   "execution_count": 11,
   "metadata": {},
   "outputs": [
    {
     "name": "stdout",
     "output_type": "stream",
     "text": [
      "+---------+---------+------------------+\n",
      "| coin1   | coin2   |   P(coin1,coin2) |\n",
      "+=========+=========+==================+\n",
      "| coin1_0 | coin2_0 |           0.2500 |\n",
      "+---------+---------+------------------+\n",
      "| coin1_0 | coin2_1 |           0.2500 |\n",
      "+---------+---------+------------------+\n",
      "| coin1_1 | coin2_0 |           0.2500 |\n",
      "+---------+---------+------------------+\n",
      "| coin1_1 | coin2_1 |           0.2500 |\n",
      "+---------+---------+------------------+\n"
     ]
    }
   ],
   "source": [
    "from pgmpy.factors.discrete import JointProbabilityDistribution as Joint\n",
    "dist = Joint(['coin1', 'coin2'], [2,2], [0.25, 0.25, 0.25, 0.25])\n",
    "print(dist)"
   ]
  },
  {
   "cell_type": "code",
   "execution_count": 14,
   "metadata": {},
   "outputs": [
    {
     "name": "stderr",
     "output_type": "stream",
     "text": [
      "/usr/local/lib/python3.5/dist-packages/pgmpy-0.1.6-py3.5.egg/pgmpy/factors/discrete/DiscreteFactor.py:586: FutureWarning: Using a non-tuple sequence for multidimensional indexing is deprecated; use `arr[tuple(seq)]` instead of `arr[seq]`. In the future this will be interpreted as an array index, `arr[np.array(seq)]`, which will result either in an error or a different result.\n",
      "  phi.values = phi.values[slice_]\n",
      "/usr/local/lib/python3.5/dist-packages/pgmpy-0.1.6-py3.5.egg/pgmpy/factors/discrete/DiscreteFactor.py:598: FutureWarning: Using a non-tuple sequence for multidimensional indexing is deprecated; use `arr[tuple(seq)]` instead of `arr[seq]`. In the future this will be interpreted as an array index, `arr[np.array(seq)]`, which will result either in an error or a different result.\n",
      "  phi1.values = phi1.values[slice_]\n"
     ]
    },
    {
     "data": {
      "text/plain": [
       "True"
      ]
     },
     "execution_count": 14,
     "metadata": {},
     "output_type": "execute_result"
    }
   ],
   "source": [
    "dist.check_independence(['coin1'], ['coin2'])"
   ]
  },
  {
   "cell_type": "markdown",
   "metadata": {},
   "source": [
    "### Conditinal Probability Distribution - CPD\n",
    "CPD is represented using a tabular CPD, which is, we construct a table containing all possible combinations of different states of the random variables and the probabilisties corresponding to those states. "
   ]
  },
  {
   "cell_type": "code",
   "execution_count": 15,
   "metadata": {},
   "outputs": [],
   "source": [
    "from pgmpy.factors.discrete.CPD import TabularCPD\n"
   ]
  },
  {
   "cell_type": "code",
   "execution_count": 19,
   "metadata": {},
   "outputs": [
    {
     "name": "stdout",
     "output_type": "stream",
     "text": [
      "+-----------+-----+\n",
      "| Quality_0 | 0.3 |\n",
      "+-----------+-----+\n",
      "| Quality_1 | 0.5 |\n",
      "+-----------+-----+\n",
      "| Quality_2 | 0.2 |\n",
      "+-----------+-----+\n",
      "['Quality']\n"
     ]
    }
   ],
   "source": [
    "quality = TabularCPD(variable='Quality', variable_card=3, values=[[0.3], [0.5], [0.2]])\n",
    "print(quality)"
   ]
  },
  {
   "cell_type": "code",
   "execution_count": 28,
   "metadata": {},
   "outputs": [
    {
     "name": "stdout",
     "output_type": "stream",
     "text": [
      "random variables involved in the CPD -->  ['Quality']\n",
      "cardinality -->  [3]\n",
      "values of the CPD -->  [0.3 0.5 0.2]\n"
     ]
    }
   ],
   "source": [
    "print('random variables involved in the CPD --> ', quality.variables)\n",
    "print('cardinality --> ', quality.cardinality)\n",
    "print('values of the CPD --> ', quality.values)"
   ]
  },
  {
   "cell_type": "code",
   "execution_count": 29,
   "metadata": {},
   "outputs": [
    {
     "name": "stdout",
     "output_type": "stream",
     "text": [
      "+------------+-----+\n",
      "| Location_0 | 0.6 |\n",
      "+------------+-----+\n",
      "| Location_1 | 0.4 |\n",
      "+------------+-----+\n"
     ]
    }
   ],
   "source": [
    "location = TabularCPD(variable='Location', variable_card=2, values=[[0.6], [0.4]])\n",
    "print(location)"
   ]
  },
  {
   "cell_type": "code",
   "execution_count": 30,
   "metadata": {},
   "outputs": [],
   "source": [
    "#The above were marginal distributions. Adding conditinality here\n",
    "cost = TabularCPD(variable='Cost', variable_card=2, \n",
    "                  values=[[0.8, 0.6, 0.1, 0.6, 0.6, 0.05], [0.2, 0.4, 0.9, 0.4, 0.4, 0.95]], \n",
    "                  evidence=['Q', 'L'], evidence_card = [3,2])"
   ]
  },
  {
   "cell_type": "code",
   "execution_count": 31,
   "metadata": {},
   "outputs": [
    {
     "name": "stdout",
     "output_type": "stream",
     "text": [
      "+--------+-----+-----+-----+-----+-----+------+\n",
      "| Q      | Q_0 | Q_0 | Q_1 | Q_1 | Q_2 | Q_2  |\n",
      "+--------+-----+-----+-----+-----+-----+------+\n",
      "| L      | L_0 | L_1 | L_0 | L_1 | L_0 | L_1  |\n",
      "+--------+-----+-----+-----+-----+-----+------+\n",
      "| Cost_0 | 0.8 | 0.6 | 0.1 | 0.6 | 0.6 | 0.05 |\n",
      "+--------+-----+-----+-----+-----+-----+------+\n",
      "| Cost_1 | 0.2 | 0.4 | 0.9 | 0.4 | 0.4 | 0.95 |\n",
      "+--------+-----+-----+-----+-----+-----+------+\n"
     ]
    }
   ],
   "source": [
    "print(cost)"
   ]
  },
  {
   "cell_type": "markdown",
   "metadata": {},
   "source": [
    "### Graph theory\n",
    "A graph G = (V, E).\n",
    "Set V = nodes or vertices of the graph\n",
    "Set E = edges or arcs of the graph\n",
    "No. of nodes in G= Cardinality of G = Order of G = |V| \n",
    "No. of edges in G = Size of G = |E|\n",
    "\n",
    "Two vertices, u, v ε V are adjacent if u, v ε E.\n",
    "neighbors set of v as { u | ( u , v ) ε E }\n",
    "an edge is a self loop if the start vertex and the end vertex of the edge are the same.\n",
    "\n",
    "For a vertex v ε V, we define its outdegree as the number of edges originating from the vertex v, that is, { u | ( v , u ) ε E }.\n",
    "Similarly, the indegree is defined as the number of edges that end at the vertex v, that is, { u | ( u , v ) ε E }.\n",
    "\n",
    "For a graph G = (V, E) and u,v ε V, we define a u - v walk as an alternating sequence of vertices and edges, starting with u and ending with v.\n",
    "\n",
    "A walk with no repeated edges is known as a trail.\n",
    "\n",
    "a walk with no repeated vertices, except possibly the first and the last, is known as a path."
   ]
  },
  {
   "cell_type": "markdown",
   "metadata": {},
   "source": [
    "### Bayesian Networks\n",
    "![title](images/BN1.png)"
   ]
  },
  {
   "cell_type": "code",
   "execution_count": 7,
   "metadata": {},
   "outputs": [],
   "source": [
    "from pgmpy.models import BayesianModel\n",
    "model = BayesianModel()"
   ]
  },
  {
   "cell_type": "code",
   "execution_count": 8,
   "metadata": {},
   "outputs": [
    {
     "name": "stdout",
     "output_type": "stream",
     "text": [
      "Nodes ->  ['rain', 'accident', 'traffic_jam']\n",
      "Edges ->  [('rain', 'traffic_jam'), ('accident', 'traffic_jam')]\n"
     ]
    }
   ],
   "source": [
    "#Add Nodes and Edges to the BN\n",
    "model.add_nodes_from(['rain', 'traffic_jam'])\n",
    "model.add_edge('rain', 'traffic_jam')\n",
    "\n",
    "model.add_edge('accident', 'traffic_jam')\n",
    "print(\"Nodes -> \", model.nodes())\n",
    "print(\"Edges -> \", model.edges())"
   ]
  },
  {
   "cell_type": "code",
   "execution_count": 10,
   "metadata": {},
   "outputs": [],
   "source": [
    "#Create CPD's\n",
    "from pgmpy.factors.discrete import TabularCPD\n",
    "cpd_rain = TabularCPD('rain', 2, [[0.4], [0.6]])\n",
    "cpd_accident = TabularCPD('accident', 2, [[0.2], [0.8]])\n",
    "cpd_traffic_jam = TabularCPD('traffic_jam', 2, \n",
    "                             [[0.9, 0.6, 0.7, 0.1],\n",
    "                              [0.1, 0.4, 0.3, 0.9]],\n",
    "                            evidence = ['rain', 'accident'],\n",
    "                            evidence_card=[2,2])"
   ]
  },
  {
   "cell_type": "code",
   "execution_count": 11,
   "metadata": {},
   "outputs": [
    {
     "data": {
      "text/plain": [
       "[<TabularCPD representing P(rain:2) at 0xa0a1e8ec>,\n",
       " <TabularCPD representing P(accident:2) at 0xa0a1e8ac>,\n",
       " <TabularCPD representing P(traffic_jam:2 | rain:2, accident:2) at 0xa0a1e54c>]"
      ]
     },
     "execution_count": 11,
     "metadata": {},
     "output_type": "execute_result"
    }
   ],
   "source": [
    "#Add CPD's\n",
    "model.add_cpds(cpd_rain, cpd_accident,cpd_traffic_jam)\n",
    "model.get_cpds()"
   ]
  },
  {
   "cell_type": "code",
   "execution_count": 16,
   "metadata": {},
   "outputs": [
    {
     "name": "stderr",
     "output_type": "stream",
     "text": [
      "WARNING:root:Replacing existing CPD for getting_up_late\n",
      "WARNING:root:Replacing existing CPD for late_for_school\n"
     ]
    },
    {
     "name": "stdout",
     "output_type": "stream",
     "text": [
      "[<TabularCPD representing P(rain:2) at 0xa0a1e8ec>, <TabularCPD representing P(accident:2) at 0xa0a1e8ac>, <TabularCPD representing P(traffic_jam:2 | rain:2, accident:2) at 0xa0a1e54c>, <TabularCPD representing P(getting_up_late:2) at 0xa0a4b28c>, <TabularCPD representing P(late_for_school:2 | getting_up_late:2, traffic_jam:2) at 0xa0a30d6c>, <TabularCPD representing P(long_queues:2 | traffic_jam:2) at 0xa0a4b1cc>]\n"
     ]
    },
    {
     "data": {
      "text/plain": [
       "True"
      ]
     },
     "execution_count": 16,
     "metadata": {},
     "output_type": "execute_result"
    }
   ],
   "source": [
    "#Adding rest of the nodes and CPD's\n",
    "model.add_nodes_from(['long_queues', 'getting_up_late', 'late_for_school'])\n",
    "\n",
    "model.add_edges_from([('traffic_jam', 'long_queues'), \n",
    "                      ('getting_up_late', 'late_for_school'), \n",
    "                      ('traffic_jam', 'late_for_school')])\n",
    "\n",
    "cpd_long_queues=TabularCPD('long_queues',2,\n",
    "                           [[0.9, 0.2],\n",
    "                            [0.1, 0.8]], \n",
    "                          evidence=['traffic_jam'],\n",
    "                          evidence_card=[2])\n",
    "\n",
    "cpd_getting_up_late = TabularCPD('getting_up_late', 2, [[0.6], [0.4]])\n",
    "\n",
    "cpd_late_for_school = TabularCPD('late_for_school', 2, \n",
    "                                [[0.9, 0.45, 0.8, 0.1],\n",
    "                                 [0.1, 0.55, 0.2, 0.9]],\n",
    "                                evidence=['getting_up_late', 'traffic_jam'],\n",
    "                                evidence_card = [2,2])\n",
    "\n",
    "model.add_cpds(cpd_long_queues, cpd_getting_up_late, cpd_late_for_school)\n",
    "print(model.get_cpds())\n",
    "model.check_model()"
   ]
  },
  {
   "cell_type": "code",
   "execution_count": 17,
   "metadata": {},
   "outputs": [],
   "source": [
    "#remove_cpds() method to remove an already added cpd in the graph\n",
    "#model.remove_cpds('late_for_school') "
   ]
  },
  {
   "cell_type": "code",
   "execution_count": null,
   "metadata": {},
   "outputs": [],
   "source": []
  }
 ],
 "metadata": {
  "kernelspec": {
   "display_name": "Python 3",
   "language": "python",
   "name": "python3"
  },
  "language_info": {
   "codemirror_mode": {
    "name": "ipython",
    "version": 3
   },
   "file_extension": ".py",
   "mimetype": "text/x-python",
   "name": "python",
   "nbconvert_exporter": "python",
   "pygments_lexer": "ipython3",
   "version": "3.5.2"
  }
 },
 "nbformat": 4,
 "nbformat_minor": 2
}
